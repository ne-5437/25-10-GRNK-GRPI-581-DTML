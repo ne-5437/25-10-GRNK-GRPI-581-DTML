{
 "cells": [
  {
   "cell_type": "code",
   "execution_count": 6,
   "id": "e87fd6d8-296a-47de-93e6-86143cd227fd",
   "metadata": {},
   "outputs": [
    {
     "name": "stdout",
     "output_type": "stream",
     "text": [
      "\n",
      "🧵 MULTITHREADING RESULTS (LOCAL IMAGE)\n",
      "======================================\n",
      "Time taken: 0.157 sec\n",
      "CPU usage start → end: 11.0% → 8.0%\n",
      "GPU usage (end):\n",
      "  GPU-0: 0.0% load, 0.0% mem\n",
      "Processed 15 images successfully.\n"
     ]
    }
   ],
   "source": [
    "# multithreading_tf_local.py\n",
    "import tensorflow as tf\n",
    "from concurrent.futures import ThreadPoolExecutor\n",
    "import time\n",
    "import psutil\n",
    "import GPUtil\n",
    "import os\n",
    "\n",
    "# -----------------------------\n",
    "# TensorFlow threading config\n",
    "# -----------------------------\n",
    "tf.config.threading.set_intra_op_parallelism_threads(4)\n",
    "tf.config.threading.set_inter_op_parallelism_threads(4)\n",
    "\n",
    "# -----------------------------\n",
    "# Local image path\n",
    "# -----------------------------\n",
    "IMAGE_PATH = \"image.jpg\"  # Make sure this exists in the current folder\n",
    "\n",
    "# -----------------------------\n",
    "# Function to load and process image\n",
    "# -----------------------------\n",
    "def load_and_process(_):\n",
    "    img_bytes = tf.io.read_file(IMAGE_PATH)\n",
    "    img = tf.io.decode_jpeg(img_bytes, channels=3)\n",
    "    img = tf.image.resize(img, [224, 224])\n",
    "    img = tf.image.per_image_standardization(img)\n",
    "    return img\n",
    "\n",
    "# -----------------------------\n",
    "# Function to check GPU usage\n",
    "# -----------------------------\n",
    "def get_gpu_usage():\n",
    "    try:\n",
    "        gpus = GPUtil.getGPUs()\n",
    "        return [(gpu.id, gpu.load * 100, gpu.memoryUtil * 100) for gpu in gpus]\n",
    "    except Exception:\n",
    "        return []\n",
    "\n",
    "# -----------------------------\n",
    "# Measure start stats\n",
    "# -----------------------------\n",
    "cpu_start = psutil.cpu_percent(interval=None)\n",
    "gpu_start = get_gpu_usage()\n",
    "start_time = time.time()\n",
    "\n",
    "# -----------------------------\n",
    "# Run 15 threads in parallel\n",
    "# -----------------------------\n",
    "with ThreadPoolExecutor(max_workers=15) as executor:\n",
    "    results = list(executor.map(load_and_process, range(15)))\n",
    "\n",
    "# -----------------------------\n",
    "# Measure end stats\n",
    "# -----------------------------\n",
    "end_time = time.time()\n",
    "cpu_end = psutil.cpu_percent(interval=1)\n",
    "gpu_end = get_gpu_usage()\n",
    "\n",
    "# -----------------------------\n",
    "# Print results\n",
    "# -----------------------------\n",
    "print(\"\\n🧵 MULTITHREADING RESULTS (LOCAL IMAGE)\")\n",
    "print(\"======================================\")\n",
    "print(f\"Time taken: {end_time - start_time:.3f} sec\")\n",
    "print(f\"CPU usage start → end: {cpu_start:.1f}% → {cpu_end:.1f}%\")\n",
    "print(\"GPU usage (end):\")\n",
    "for gpu_id, load, mem in gpu_end:\n",
    "    print(f\"  GPU-{gpu_id}: {load:.1f}% load, {mem:.1f}% mem\")\n",
    "print(f\"Processed {len(results)} images successfully.\")\n"
   ]
  },
  {
   "cell_type": "code",
   "execution_count": null,
   "id": "fe78c05e-e4af-4145-9c01-f0a4674802eb",
   "metadata": {},
   "outputs": [],
   "source": []
  },
  {
   "cell_type": "code",
   "execution_count": null,
   "id": "fce5c19b-cc39-4f85-a46b-ed9facc20890",
   "metadata": {},
   "outputs": [],
   "source": []
  }
 ],
 "metadata": {
  "kernelspec": {
   "display_name": "Python 3 (ipykernel)",
   "language": "python",
   "name": "python3"
  },
  "language_info": {
   "codemirror_mode": {
    "name": "ipython",
    "version": 3
   },
   "file_extension": ".py",
   "mimetype": "text/x-python",
   "name": "python",
   "nbconvert_exporter": "python",
   "pygments_lexer": "ipython3",
   "version": "3.11.9"
  }
 },
 "nbformat": 4,
 "nbformat_minor": 5
}
