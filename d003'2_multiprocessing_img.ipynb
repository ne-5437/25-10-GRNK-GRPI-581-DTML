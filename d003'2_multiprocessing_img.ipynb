{
 "cells": [
  {
   "cell_type": "code",
   "execution_count": 4,
   "id": "79fbb654-7fe4-487d-9810-f5266b4fc4f4",
   "metadata": {},
   "outputs": [
    {
     "name": "stdout",
     "output_type": "stream",
     "text": [
      "\n",
      "🔥 FAKE MULTIPROCESSING RESULTS (Windows-safe)\n",
      "===============================================\n",
      "Time taken: 0.170 sec\n",
      "CPU usage start → end: 9.3% → 17.0%\n",
      "GPU usage (end):\n",
      "  GPU-0: 0.0% load, 0.0% mem\n",
      "Processed 15 / 15 images successfully.\n"
     ]
    }
   ],
   "source": [
    "import tensorflow as tf\n",
    "from concurrent.futures import ThreadPoolExecutor\n",
    "import time\n",
    "import psutil\n",
    "import GPUtil\n",
    "\n",
    "# -----------------------------\n",
    "# TensorFlow threading config\n",
    "# -----------------------------\n",
    "tf.config.threading.set_intra_op_parallelism_threads(1)\n",
    "tf.config.threading.set_inter_op_parallelism_threads(1)\n",
    "\n",
    "# -----------------------------\n",
    "# Local image path\n",
    "# -----------------------------\n",
    "IMAGE_PATH = \"image.jpeg\"  # Make sure this exists\n",
    "\n",
    "# -----------------------------\n",
    "# Function to process image (CPU+GPU)\n",
    "# -----------------------------\n",
    "def process_image(_):\n",
    "    img_bytes = tf.io.read_file(IMAGE_PATH)\n",
    "    img = tf.io.decode_jpeg(img_bytes, channels=3)\n",
    "    img = tf.image.resize(img, [224, 224])\n",
    "    img = tf.image.per_image_standardization(img)\n",
    "    \n",
    "    # Return small info to avoid pickling issues\n",
    "    return True\n",
    "\n",
    "# -----------------------------\n",
    "# Check GPU usage\n",
    "# -----------------------------\n",
    "def get_gpu_usage():\n",
    "    try:\n",
    "        gpus = GPUtil.getGPUs()\n",
    "        return [(gpu.id, gpu.load*100, gpu.memoryUtil*100) for gpu in gpus]\n",
    "    except Exception:\n",
    "        return []\n",
    "\n",
    "# -----------------------------\n",
    "# Start measurements\n",
    "# -----------------------------\n",
    "cpu_start = psutil.cpu_percent(interval=None)\n",
    "gpu_start = get_gpu_usage()\n",
    "start_time = time.time()\n",
    "\n",
    "# -----------------------------\n",
    "# Fake \"multiprocessing\" using threads\n",
    "# -----------------------------\n",
    "# Simulate 15 parallel processes\n",
    "with ThreadPoolExecutor(max_workers=15) as executor:\n",
    "    results = list(executor.map(process_image, range(15)))\n",
    "\n",
    "end_time = time.time()\n",
    "cpu_end = psutil.cpu_percent(interval=1)\n",
    "gpu_end = get_gpu_usage()\n",
    "\n",
    "# -----------------------------\n",
    "# Print results\n",
    "# -----------------------------\n",
    "print(\"\\n🔥 FAKE MULTIPROCESSING RESULTS (Windows-safe)\")\n",
    "print(\"===============================================\")\n",
    "print(f\"Time taken: {end_time - start_time:.3f} sec\")\n",
    "print(f\"CPU usage start → end: {cpu_start:.1f}% → {cpu_end:.1f}%\")\n",
    "print(\"GPU usage (end):\")\n",
    "for gpu_id, load, mem in gpu_end:\n",
    "    print(f\"  GPU-{gpu_id}: {load:.1f}% load, {mem:.1f}% mem\")\n",
    "print(f\"Processed {sum(results)} / {len(results)} images successfully.\")\n"
   ]
  }
 ],
 "metadata": {
  "kernelspec": {
   "display_name": "Python 3 (ipykernel)",
   "language": "python",
   "name": "python3"
  },
  "language_info": {
   "codemirror_mode": {
    "name": "ipython",
    "version": 3
   },
   "file_extension": ".py",
   "mimetype": "text/x-python",
   "name": "python",
   "nbconvert_exporter": "python",
   "pygments_lexer": "ipython3",
   "version": "3.11.9"
  }
 },
 "nbformat": 4,
 "nbformat_minor": 5
}
